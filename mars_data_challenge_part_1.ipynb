{
 "cells": [
  {
   "cell_type": "code",
   "execution_count": 1,
   "id": "4287ec54",
   "metadata": {},
   "outputs": [],
   "source": [
    "# Import Splinter and BeautifulSoup\n",
    "from splinter import Browser\n",
    "from bs4 import BeautifulSoup as soup\n",
    "from webdriver_manager.chrome import ChromeDriverManager"
   ]
  },
  {
   "cell_type": "code",
   "execution_count": 2,
   "id": "756ca227",
   "metadata": {},
   "outputs": [
    {
     "name": "stderr",
     "output_type": "stream",
     "text": [
      "[WDM] - Downloading: 100%|██████████████████████████████████████████████████████| 8.41M/8.41M [00:01<00:00, 4.68MB/s]\n"
     ]
    }
   ],
   "source": [
    "executable_path = {'executable_path': ChromeDriverManager().install()}\n",
    "browser = Browser('chrome', **executable_path, headless=False)"
   ]
  },
  {
   "cell_type": "code",
   "execution_count": 5,
   "id": "07c31c62",
   "metadata": {},
   "outputs": [],
   "source": [
    "url = \"https://redplanetscience.com/\""
   ]
  },
  {
   "cell_type": "code",
   "execution_count": 6,
   "id": "e3cadbb4",
   "metadata": {},
   "outputs": [],
   "source": [
    "browser.visit(url)"
   ]
  },
  {
   "cell_type": "code",
   "execution_count": 7,
   "id": "2bafa79c",
   "metadata": {},
   "outputs": [],
   "source": [
    "html = browser.html\n",
    "html_soup = soup(html, 'html.parser')"
   ]
  },
  {
   "cell_type": "code",
   "execution_count": 8,
   "id": "e3866640",
   "metadata": {},
   "outputs": [],
   "source": [
    "news = html_soup.find('div', id='news')"
   ]
  },
  {
   "cell_type": "code",
   "execution_count": 12,
   "id": "ec18e089",
   "metadata": {},
   "outputs": [],
   "source": [
    "news_items = news.find_all('div', class_='list_text')"
   ]
  },
  {
   "cell_type": "code",
   "execution_count": 41,
   "id": "5a02718d",
   "metadata": {},
   "outputs": [
    {
     "data": {
      "text/plain": [
       "\"NASA's Curiosity Takes Selfie With 'Mary Anning' on the Red Planet\""
      ]
     },
     "execution_count": 41,
     "metadata": {},
     "output_type": "execute_result"
    }
   ],
   "source": [
    "news_items[0]"
   ]
  },
  {
   "cell_type": "code",
   "execution_count": 44,
   "id": "7d86859d",
   "metadata": {},
   "outputs": [],
   "source": [
    "scraped_news = []\n",
    "for item in news_items:\n",
    "    title = item.find('div', class_=\"content_title\").text\n",
    "    preview = item.find('div', class_=\"article_teaser_body\").text\n",
    "    news_dict = {\n",
    "      'title': title,\n",
    "        'preview': preview\n",
    "    }\n",
    "    scraped_news.append(news_dict)"
   ]
  },
  {
   "cell_type": "code",
   "execution_count": 45,
   "id": "f5d5498d",
   "metadata": {},
   "outputs": [
    {
     "data": {
      "text/plain": [
       "[{'title': \"NASA's Curiosity Takes Selfie With 'Mary Anning' on the Red Planet\",\n",
       "  'preview': 'The Mars rover has drilled three samples of rock in this clay-enriched region since arriving in July.'},\n",
       " {'title': \"NASA's Curiosity Mars Rover Snaps Its Highest-Resolution Panorama Yet\",\n",
       "  'preview': 'To go along with the stunning 1.8-billion-pixel image, a new video offers a sweeping view of the Red Planet.'},\n",
       " {'title': \"A Martian Roundtrip: NASA's Perseverance Rover Sample Tubes\",\n",
       "  'preview': \"Marvels of engineering, the rover's sample tubes must be tough enough to safely bring Red Planet samples on the long journey back to Earth in immaculate condition. \"},\n",
       " {'title': \"Robotic Toolkit Added to NASA's Mars 2020 Rover\",\n",
       "  'preview': \"The bit carousel, which lies at the heart of the rover's Sample Caching System, is now aboard NASA's newest rover. \"},\n",
       " {'title': \"Q&A with the Student Who Named Ingenuity, NASA's Mars Helicopter\",\n",
       "  'preview': 'As a longtime fan of space exploration, Vaneeza Rupani appreciates the creativity and collaboration involved with trying to fly on another planet.'},\n",
       " {'title': 'The MarCO Mission Comes to an End',\n",
       "  'preview': 'The pair of briefcase-sized satellites made history when they sailed past Mars in 2019.'},\n",
       " {'title': 'NASA Wins Two Emmy Awards for Interactive Mission Coverage',\n",
       "  'preview': \"NASA-JPL's coverage of the Mars InSight landing earns one of the two wins, making this the NASA center's second Emmy.\"},\n",
       " {'title': \"NASA InSight's 'Mole' Is Out of Sight\",\n",
       "  'preview': \"Now that the heat probe is just below the Martian surface, InSight's arm will scoop some additional soil on top to help it keep digging so it can take Mars' temperature.\"},\n",
       " {'title': 'NASA Moves Forward With Campaign to Return Mars Samples to Earth',\n",
       "  'preview': 'During this next phase, the program will mature critical technologies and make critical design decisions as well as assess industry partnerships.'},\n",
       " {'title': \"NASA's New Mars Rover Is Ready for Space Lasers\",\n",
       "  'preview': 'Perseverance is one of a few Mars spacecraft carrying laser retroreflectors. The devices could provide new science and safer Mars landings in the future.'},\n",
       " {'title': \"Air Deliveries Bring NASA's Perseverance Mars Rover Closer to Launch\",\n",
       "  'preview': \"A NASA Wallops Flight Facility cargo plane transported more than two tons of equipment — including the rover's sample collection tubes — to Florida for this summer's liftoff.\"},\n",
       " {'title': 'NASA to Reveal Name of Its Next Mars Rover',\n",
       "  'preview': \"After a months-long contest among students to name NASA's newest Mars rover, the agency will reveal the winning name — and the winning student — this Thursday. \"},\n",
       " {'title': \"Meet the People Behind NASA's Perseverance Rover\",\n",
       "  'preview': \"These are the scientists and engineers who built NASA's next Mars rover and who will guide it to a safe landing in Jezero Crater. \"},\n",
       " {'title': \"10.9 Million Names Now Aboard NASA's Perseverance Mars Rover\",\n",
       "  'preview': \"As part of NASA's 'Send Your Name to Mars' campaign, they've been stenciled onto three microchips along with essays from NASA's 'Name the Rover' contest. Next stop: Mars.\"},\n",
       " {'title': \"Alabama High School Student Names NASA's Mars Helicopter\",\n",
       "  'preview': \"Vaneeza Rupani's essay was chosen as the name for the small spacecraft, which will mark NASA's first attempt at powered flight on another planet.\"}]"
      ]
     },
     "execution_count": 45,
     "metadata": {},
     "output_type": "execute_result"
    }
   ],
   "source": [
    "scraped_news"
   ]
  },
  {
   "cell_type": "code",
   "execution_count": 47,
   "id": "4ee46549",
   "metadata": {},
   "outputs": [],
   "source": [
    "import json\n",
    "\n",
    "with open('mars_news.json', 'w') as outfile:\n",
    "    json.dump(scraped_news, outfile)"
   ]
  },
  {
   "cell_type": "code",
   "execution_count": 49,
   "id": "b57f7084",
   "metadata": {},
   "outputs": [],
   "source": [
    "browser.quit()"
   ]
  },
  {
   "cell_type": "code",
   "execution_count": null,
   "id": "81f99266",
   "metadata": {},
   "outputs": [],
   "source": []
  }
 ],
 "metadata": {
  "kernelspec": {
   "display_name": "Python 3 (ipykernel)",
   "language": "python",
   "name": "python3"
  },
  "language_info": {
   "codemirror_mode": {
    "name": "ipython",
    "version": 3
   },
   "file_extension": ".py",
   "mimetype": "text/x-python",
   "name": "python",
   "nbconvert_exporter": "python",
   "pygments_lexer": "ipython3",
   "version": "3.7.13"
  }
 },
 "nbformat": 4,
 "nbformat_minor": 5
}
